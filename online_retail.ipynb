{
 "cells": [
  {
   "cell_type": "code",
   "execution_count": null,
   "id": "549cf875",
   "metadata": {},
   "outputs": [],
   "source": [
    "import pandas as pd\n",
    "import numpy as np"
   ]
  },
  {
   "cell_type": "code",
   "execution_count": null,
   "id": "06da30e9",
   "metadata": {},
   "outputs": [],
   "source": [
    "df = pd.read_excel('OnlineRetail.xlsx')"
   ]
  },
  {
   "cell_type": "code",
   "execution_count": null,
   "id": "159e7bf4",
   "metadata": {
    "scrolled": true
   },
   "outputs": [],
   "source": [
    "df"
   ]
  },
  {
   "cell_type": "code",
   "execution_count": null,
   "id": "a21c5070",
   "metadata": {},
   "outputs": [],
   "source": [
    "df.isnull().sum()"
   ]
  },
  {
   "cell_type": "markdown",
   "id": "0b2829c8",
   "metadata": {},
   "source": [
    "# Question 1"
   ]
  },
  {
   "cell_type": "markdown",
   "id": "cfc25aad",
   "metadata": {},
   "source": [
    " Find the top 10 customers who spent the most money Using MapReduce."
   ]
  },
  {
   "cell_type": "code",
   "execution_count": null,
   "id": "144501d5",
   "metadata": {},
   "outputs": [],
   "source": [
    "#cleaning data for this part\n",
    "df2=df.dropna(subset=['CustomerID'])\n",
    "df2"
   ]
  },
  {
   "cell_type": "code",
   "execution_count": null,
   "id": "e3b35541",
   "metadata": {},
   "outputs": [],
   "source": [
    "#As we know, we shouldn't calculate the number of those who had cancellation.\n",
    "df2 = df2[~(df['InvoiceNo'].astype('string').str.contains('C'))]\n",
    "df2"
   ]
  },
  {
   "cell_type": "markdown",
   "id": "111cbf54",
   "metadata": {},
   "source": [
    "First, I choose 3 columns that are needed for answering this part."
   ]
  },
  {
   "cell_type": "code",
   "execution_count": null,
   "id": "c2e9b946",
   "metadata": {},
   "outputs": [],
   "source": [
    "my_data= pd.concat([df2['CustomerID'],df2['Quantity'],df2['UnitPrice']], axis=1)"
   ]
  },
  {
   "cell_type": "code",
   "execution_count": null,
   "id": "4ccc0749",
   "metadata": {},
   "outputs": [],
   "source": [
    "my_data"
   ]
  },
  {
   "cell_type": "markdown",
   "id": "07cbaf9f",
   "metadata": {},
   "source": [
    "Because of using Mapreduce, first, I split the table into 10 new tables."
   ]
  },
  {
   "cell_type": "code",
   "execution_count": null,
   "id": "98f4868b",
   "metadata": {},
   "outputs": [],
   "source": [
    "total_rows = len(my_data)\n",
    "\n",
    "rows_per_table = total_rows // 10\n",
    "\n",
    "tables = []\n",
    "start_row = 0\n",
    "\n",
    "for i in range(10):\n",
    "    end_row = start_row + rows_per_table\n",
    "    table = my_data[start_row:end_row]\n",
    "    tables.append(table)\n",
    "    start_row = end_row\n",
    "#I stored my new tables in \"tables\".\n",
    "\n",
    "#showing the tables:\n",
    "for i, table in enumerate(tables):\n",
    "    print(f\"Table {i+1}:\")\n",
    "    print(table)\n",
    "    print()\n"
   ]
  },
  {
   "cell_type": "code",
   "execution_count": null,
   "id": "12a275ac",
   "metadata": {},
   "outputs": [],
   "source": [
    "for tabl in tables:\n",
    "    tabl['price'] = tabl['Quantity'] * tabl['UnitPrice']\n",
    "    \n",
    "for i, tabl in enumerate(tables):\n",
    "    print(f\"Table {i+1}:\")\n",
    "    print(tabl)\n",
    "    print()"
   ]
  },
  {
   "cell_type": "markdown",
   "id": "93097401",
   "metadata": {},
   "source": [
    "Creating (numbers, CustomerID, price)"
   ]
  },
  {
   "cell_type": "code",
   "execution_count": null,
   "id": "30de3d0c",
   "metadata": {},
   "outputs": [],
   "source": [
    "my_list=[]\n",
    "for table in tables:\n",
    "    result=[]\n",
    "    numbers = list(range(1, len(table['CustomerID'])))\n",
    "    result = list(zip(numbers,table['CustomerID'], table['price']))\n",
    "    my_list.append(result)\n",
    "    \n",
    "for i, result in enumerate(my_list):\n",
    "    print(f\"Table {i+1}:\")\n",
    "    print(result)"
   ]
  },
  {
   "cell_type": "markdown",
   "id": "23aa102b",
   "metadata": {},
   "source": [
    "giving 1 to each key in tables"
   ]
  },
  {
   "cell_type": "code",
   "execution_count": null,
   "id": "415ea644",
   "metadata": {},
   "outputs": [],
   "source": [
    "dictionaries = []\n",
    "\n",
    "for result in my_list:\n",
    "    my_dict = {}\n",
    "    for key in result:\n",
    "        my_dict[key] = [1]\n",
    "    dictionaries.append(my_dict)\n",
    "\n",
    "# Print the dictionaries\n",
    "for i, my_dict in enumerate(dictionaries):\n",
    "    print(f\"Table {i+1}:\")\n",
    "    for key, values in my_dict.items():\n",
    "        print(key, values)\n",
    "    print()"
   ]
  },
  {
   "cell_type": "markdown",
   "id": "b38c0ed0",
   "metadata": {},
   "source": [
    "collecting: (CustumerID, price): [1,...,1]"
   ]
  },
  {
   "cell_type": "code",
   "execution_count": null,
   "id": "fb29e795",
   "metadata": {},
   "outputs": [],
   "source": [
    "lastlist = []\n",
    "for dictionary in dictionaries:\n",
    "    firstlist = {}\n",
    "    for key in dictionary.keys():\n",
    "        new_key = key[1:3]\n",
    "        if new_key in firstlist:\n",
    "            firstlist[new_key].append(1)\n",
    "        else:\n",
    "            firstlist[new_key] = [1]\n",
    "    lastlist.append(firstlist)\n",
    "    \n",
    "for i, firstlist in enumerate(lastlist):\n",
    "    print(f\"Table {i+1}:\")\n",
    "    for key, values in firstlist.items():\n",
    "        print(key, values)\n",
    "    print()"
   ]
  },
  {
   "cell_type": "markdown",
   "id": "1742f744",
   "metadata": {},
   "source": [
    "collecting all the values from different tables"
   ]
  },
  {
   "cell_type": "code",
   "execution_count": null,
   "id": "0c143de7",
   "metadata": {},
   "outputs": [],
   "source": [
    "def collect_values(dictionaries):\n",
    "    common_values = {}\n",
    "    \n",
    "    for dictionary in dictionaries:\n",
    "        for key in dictionary:\n",
    "            if key in common_values:\n",
    "                common_values[key].append(dictionary[key])\n",
    "            else:\n",
    "                common_values[key] = [dictionary[key]]\n",
    "    \n",
    "    return common_values\n",
    "\n",
    "\n",
    "collect= collect_values(lastlist)\n",
    "collect"
   ]
  },
  {
   "cell_type": "markdown",
   "id": "b6b24a6f",
   "metadata": {},
   "source": [
    "Reducing"
   ]
  },
  {
   "cell_type": "code",
   "execution_count": null,
   "id": "3d8ab21a",
   "metadata": {},
   "outputs": [],
   "source": [
    "def count_values(A):\n",
    "    count_dict = {}\n",
    "    for key, values in A.items():\n",
    "        count = 0\n",
    "        for sublist in values:\n",
    "            count += sublist.count(1)\n",
    "        count_dict[key] = count\n",
    "    return count_dict\n",
    "\n",
    "x = count_values(collect)\n",
    "print(x)\n"
   ]
  },
  {
   "cell_type": "markdown",
   "id": "eb8b627c",
   "metadata": {},
   "source": [
    "Now, with a simple *, we can calculate how much money, each customer had spent"
   ]
  },
  {
   "cell_type": "code",
   "execution_count": null,
   "id": "7bc218cd",
   "metadata": {},
   "outputs": [],
   "source": [
    "def all_spent(mydict):\n",
    "    new_dict = {}\n",
    "    for key, value in mydict.items():\n",
    "        CustomerID, price = key\n",
    "        num = value\n",
    "        spent= price*num\n",
    "        if CustomerID in new_dict:\n",
    "            new_dict[CustomerID].append(spent)\n",
    "        else:\n",
    "            new_dict[CustomerID] = [spent]\n",
    "    \n",
    "    return new_dict\n",
    "myoutput = all_spent(x)\n",
    "print(myoutput)"
   ]
  },
  {
   "cell_type": "code",
   "execution_count": null,
   "id": "cdc1c3be",
   "metadata": {},
   "outputs": [],
   "source": [
    "sum_all = {key: sum(values) for key, values in myoutput.items()}\n",
    "sum_all"
   ]
  },
  {
   "cell_type": "code",
   "execution_count": null,
   "id": "086d91a7",
   "metadata": {},
   "outputs": [],
   "source": [
    "sorted_dict = {key: value for key, value in sorted(sum_all.items(), key=lambda item: item[1], reverse=True)}\n",
    "my_tuple = tuple(sorted_dict.items())[:10]\n",
    "print(my_tuple)\n"
   ]
  },
  {
   "cell_type": "markdown",
   "id": "4b9288ae",
   "metadata": {},
   "source": [
    "# Question 2"
   ]
  },
  {
   "cell_type": "markdown",
   "id": "eee05f1b",
   "metadata": {},
   "source": [
    "Calculate the total revenue generated by each customer for a given time period using MapReduce"
   ]
  },
  {
   "cell_type": "code",
   "execution_count": null,
   "id": "875e2261",
   "metadata": {},
   "outputs": [],
   "source": [
    "#We made this tables in question 1. Here, we only use it.\n",
    "df3 = pd.concat([my_data, df2['InvoiceDate']], axis = 1)\n",
    "df3"
   ]
  },
  {
   "cell_type": "markdown",
   "id": "783450d2",
   "metadata": {},
   "source": [
    "**Here, in 2 boxes below, we choose a period of time to calculate on it. After this part, other parts are like as \"question 1\".**"
   ]
  },
  {
   "cell_type": "code",
   "execution_count": null,
   "id": "fe6240e9",
   "metadata": {},
   "outputs": [],
   "source": [
    "from datetime import datetime\n",
    "def filter_time(data, start_time, end_time):\n",
    "    df = pd.DataFrame(data)\n",
    "    df.set_index('InvoiceDate', inplace=True)\n",
    "    filtered_df = df.loc[start_time:end_time]\n",
    "    \n",
    "    return filtered_df\n",
    "\n",
    "    "
   ]
  },
  {
   "cell_type": "code",
   "execution_count": null,
   "id": "c1e1b2a6",
   "metadata": {},
   "outputs": [],
   "source": [
    "limited_tables = []\n",
    "for table in tables:\n",
    "    limited_table = filter_time(df3, datetime(2011,1,1) , datetime(2011,3,5))\n",
    "    limited_tables.append(limited_table)\n",
    "    \n",
    "for i, limited_table in enumerate(limited_tables):\n",
    "    print (f\"Table {i+1}:\")\n",
    "    print(limited_table)\n",
    "    "
   ]
  },
  {
   "cell_type": "code",
   "execution_count": null,
   "id": "64fc3a95",
   "metadata": {},
   "outputs": [],
   "source": [
    "for limited_tabl in limited_tables:\n",
    "    limited_tabl['price'] = limited_tabl['Quantity'] * limited_tabl['UnitPrice']\n",
    "    \n",
    "for i, limited_table in enumerate(limited_tables):\n",
    "    print(f\"Table {i+1}:\")\n",
    "    print(limited_table)\n",
    "    print()"
   ]
  },
  {
   "cell_type": "code",
   "execution_count": null,
   "id": "2b007bbb",
   "metadata": {},
   "outputs": [],
   "source": [
    "my_list=[]\n",
    "for limited_table in limited_tables:\n",
    "    result=[]\n",
    "    numbers = list(range(1, len(limited_table['CustomerID'])))\n",
    "    result = list(zip(numbers,limited_table['CustomerID'], limited_table['price']))\n",
    "    my_list.append(result)\n",
    "    \n",
    "for i, result in enumerate(my_list):\n",
    "    print(f\"Table {i+1}:\")\n",
    "    print(result)"
   ]
  },
  {
   "cell_type": "code",
   "execution_count": null,
   "id": "6df17c18",
   "metadata": {},
   "outputs": [],
   "source": [
    "dictionaries = []\n",
    "\n",
    "for result in my_list:\n",
    "    my_dict = {}\n",
    "    for key in result:\n",
    "        my_dict[key] = [1]\n",
    "    dictionaries.append(my_dict)\n",
    "\n",
    "# Print the dictionaries\n",
    "for i, my_dict in enumerate(dictionaries):\n",
    "    print(f\"Table {i+1}:\")\n",
    "    for key, values in my_dict.items():\n",
    "        print(key, values)\n",
    "    print()"
   ]
  },
  {
   "cell_type": "code",
   "execution_count": null,
   "id": "325bbfc6",
   "metadata": {},
   "outputs": [],
   "source": [
    "lastlist = []\n",
    "for dictionary in dictionaries:\n",
    "    firstlist = {}\n",
    "    for key in dictionary.keys():\n",
    "        new_key = key[1:3]\n",
    "        if new_key in firstlist:\n",
    "            firstlist[new_key].append(1)\n",
    "        else:\n",
    "            firstlist[new_key] = [1]\n",
    "    lastlist.append(firstlist)\n",
    "    \n",
    "for i, firstlist in enumerate(lastlist):\n",
    "    print(f\"Table {i+1}:\")\n",
    "    for key, values in firstlist.items():\n",
    "        print(key, values)\n",
    "    print()"
   ]
  },
  {
   "cell_type": "code",
   "execution_count": null,
   "id": "2df7a186",
   "metadata": {},
   "outputs": [],
   "source": [
    "collect= collect_values(lastlist)\n",
    "collect"
   ]
  },
  {
   "cell_type": "code",
   "execution_count": null,
   "id": "440533a3",
   "metadata": {},
   "outputs": [],
   "source": [
    "def count_values(A):\n",
    "    count_dict = {}\n",
    "    for key, values in A.items():\n",
    "        count = 0\n",
    "        for sublist in values:\n",
    "            count += sublist.count(1)\n",
    "        count_dict[key] = count\n",
    "    return count_dict\n",
    "\n",
    "y = count_values(collect)\n",
    "print(y)\n"
   ]
  },
  {
   "cell_type": "code",
   "execution_count": null,
   "id": "c11ccd17",
   "metadata": {},
   "outputs": [],
   "source": [
    "my_output = all_spent(y)\n",
    "print(my_output)"
   ]
  },
  {
   "cell_type": "code",
   "execution_count": null,
   "id": "a6b99d4c",
   "metadata": {},
   "outputs": [],
   "source": [
    "sum_all = {key: sum(values) for key, values in my_output.items()}\n",
    "sum_all"
   ]
  },
  {
   "cell_type": "code",
   "execution_count": null,
   "id": "522c86c0",
   "metadata": {},
   "outputs": [],
   "source": [
    "sorted_dict = {key: value for key, value in sorted(sum_all2.items(), key=lambda item: item[1], reverse=True)}\n",
    "my_tuple = tuple(sorted_dict.items())[:10]\n",
    "print(my_tuple)\n"
   ]
  },
  {
   "cell_type": "markdown",
   "id": "13f45917",
   "metadata": {},
   "source": [
    "**Finished!**\n",
    "So, you can see the total revenue generated by each customer for a period of time."
   ]
  }
 ],
 "metadata": {
  "kernelspec": {
   "display_name": "Python 3 (ipykernel)",
   "language": "python",
   "name": "python3"
  },
  "language_info": {
   "codemirror_mode": {
    "name": "ipython",
    "version": 3
   },
   "file_extension": ".py",
   "mimetype": "text/x-python",
   "name": "python",
   "nbconvert_exporter": "python",
   "pygments_lexer": "ipython3",
   "version": "3.11.2"
  }
 },
 "nbformat": 4,
 "nbformat_minor": 5
}
